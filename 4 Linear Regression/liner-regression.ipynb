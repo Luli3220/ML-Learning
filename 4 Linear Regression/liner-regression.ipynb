{
 "cells": [
  {
   "cell_type": "markdown",
   "metadata": {},
   "source": [
    "# 线性回归（linear regression）\n"
   ]
  },
  {
   "cell_type": "markdown",
   "metadata": {},
   "source": [
    "#### 线性回归解析方法(核心公式)\n",
    "\n",
    "\n",
    "最小化损失函数 $ J(\\theta) $，即均方误差（MSE）的一半：\n",
    "\n",
    "$$\n",
    "J(\\theta) = \\frac{1}{2N} \\|y - X\\theta\\|^2 = \\frac{1}{2N} (y - X\\theta)^T(y - X\\theta)\n",
    "$$\n",
    "\n",
    "接下来，我们通过解析方法求解最优参数 $ \\theta $。\n",
    "\n",
    "---\n",
    "\n",
    "#### 1:首先展开 $ J(\\theta) $ 的表达式：\n",
    "\n",
    "$$\n",
    "J(\\theta) = \\frac{1}{2N} (y - X\\theta)^T(y - X\\theta)\n",
    "$$\n",
    "\n",
    "展开得：\n",
    "\n",
    "$$\n",
    "J(\\theta) = \\frac{1}{2N} \\left( y^Ty - y^TX\\theta - \\theta^TX^Ty + \\theta^TX^TX\\theta \\right)\n",
    "$$\n",
    "\n",
    "注意到 $ y^TX\\theta $ 和 $ \\theta^TX^Ty $ 是标量，并且满足 $ y^TX\\theta = \\theta^TX^Ty $，因此可以合并为：\n",
    "\n",
    "$$\n",
    "J(\\theta) = \\frac{1}{2N} \\left( y^Ty - 2\\theta^TX^Ty + \\theta^TX^TX\\theta \\right)\n",
    "$$\n",
    "\n",
    "---\n",
    "\n",
    "#### 2: 对 $ \\theta $ 求导\n",
    "\n",
    "为了找到使 $ J(\\theta) $ 为最小值的 $ \\theta $，我们对 $ J(\\theta) $ 关于 $ \\theta $ 求导，并令导数为零。\n",
    "\n",
    "\n",
    "\n",
    "对 $ J(\\theta) $ 求导：\n",
    "\n",
    "得到：\n",
    "$$\n",
    "\\frac{\\partial J(\\theta)}{\\partial \\theta} = \\frac{1}{N} \\left( -X^Ty + X^TX\\theta \\right)\n",
    "$$\n",
    "\n",
    "令导数为零：\n",
    "\n",
    "$$\n",
    "\\frac{1}{N} \\left( -X^Ty + X^TX\\theta \\right) = 0\n",
    "$$\n",
    "\n",
    "---\n",
    "\n",
    "#### 3. 求 $ \\theta $\n",
    "\n",
    "将方程整理为：\n",
    "\n",
    "$$\n",
    "X^TX\\theta = X^Ty\n",
    "$$\n",
    "\n",
    "$$\n",
    "\\boxed{\\theta = (X^TX)^{-1}X^Ty}\n",
    "$$\n",
    "\n",
    "这就是线性回归的解析解。\n",
    "\n",
    "---"
   ]
  },
  {
   "cell_type": "markdown",
   "metadata": {},
   "source": [
    "### 通过线性回归（解析解法）预测房价"
   ]
  },
  {
   "cell_type": "markdown",
   "metadata": {},
   "source": [
    "### 导包"
   ]
  },
  {
   "cell_type": "code",
   "execution_count": 6,
   "metadata": {},
   "outputs": [],
   "source": [
    "import numpy as np\n",
    "import matplotlib.pyplot as plt\n",
    "from matplotlib.ticker import MaxNLocator\n",
    "from sklearn.preprocessing import StandardScaler"
   ]
  },
  {
   "cell_type": "markdown",
   "metadata": {},
   "source": [
    "### 数据集得划分及其归一化\n",
    "\n",
    "\n",
    "#### 归一化\n",
    "\n",
    "StandardScalar 通过计算均值和方差，将数据归一化为均值为0，方差为1\n",
    "\n",
    "\n",
    "示例：\n",
    "\n",
    "``` python\n",
    "from sklearn.preprocessing import StandardScaler\n",
    "scaler=StandardScaler()\n",
    "scalaer.fit(train)\n",
    "train=scaler.transform(train)   \n",
    "test=scaler.transform(test)\n",
    "\n",
    "```\n",
    "\n",
    "#### 为什么要进行归一化？\n",
    "\n",
    "因为有些数据很大，比如说一些特征得量级达到 $10^5$，而有些数据 $10^-1$,大特征的系数变换很小就能造成较大的影响，而小特征的系数变换很大才能产生一定的影响，\n",
    "\n",
    "我们这里要把他们的影响变换到一直，所以采用归一化。\n"
   ]
  },
  {
   "cell_type": "code",
   "execution_count": 7,
   "metadata": {},
   "outputs": [
    {
     "name": "stdout",
     "output_type": "stream",
     "text": [
      "数据特征: Avg. Area Income,Avg. Area House Age,Avg. Area Number of Rooms,Avg. Area Number of Bedrooms,Area Population\n",
      "数据标签:  Price\n",
      "数据总条数: 5000\n"
     ]
    }
   ],
   "source": [
    "lines=np.loadtxt('USA_Housing.csv',delimiter=',',dtype='str')\n",
    "#跳过表头\n",
    "#这里为什么要这样转呢，因为文件表头有字符，所以我们得先用 str读取，去掉表头后在转类型\n",
    "header=lines[0]\n",
    "lines=lines[1:].astype(float) #lines[1:] 中的所有元素转换为 float 类型。\n",
    "\n",
    "print('数据特征:',','.join(header[:-1]))\n",
    "print('数据标签: ',header[-1])\n",
    "print('数据总条数:',len(lines))\n",
    "\n",
    "\n",
    "#划分训练集\n",
    "ratio=0.8\n",
    "split=int(ratio*len(lines))\n",
    "np.random.seed(0)\n",
    "lines=np.random.permutation(lines)\n",
    "train,test=lines[:split],lines[split:]\n",
    "\n",
    "#数据归一化\n",
    "scaler=StandardScaler()   #将参数进行标准化\n",
    "scaler.fit(train)  \n",
    "train=scaler.transform(train)   #transform方法的作用是根据之前计算好的均值和标准差，对数据进行标准化。\n",
    "test=scaler.transform(test)\n",
    "\n",
    "x_train,y_train=train[:,:-1],train[:,-1].flatten()  #train[:,-1]得到的是一个二维数组，需要展平\n",
    "x_test,y_test=test[:,:-1],test[:,-1].flatten()\n"
   ]
  },
  {
   "cell_type": "code",
   "execution_count": 8,
   "metadata": {},
   "outputs": [
    {
     "name": "stdout",
     "output_type": "stream",
     "text": [
      "回归系数:  [ 6.50881254e-01  4.67222833e-01  3.38466198e-01  6.17275856e-03\n",
      "  4.26857089e-01 -1.46313083e-14]\n",
      "RMSE:  0.2879183424750354\n"
     ]
    }
   ],
   "source": [
    "#在x矩阵最后添加一列1，代表常数项\n",
    "X=np.concatenate([x_train,np.ones((len(x_train),1))],axis=1)\n",
    "# @表示矩阵相乘，X.T表示转置  np.linalg.inv表示矩阵的逆\n",
    "\n",
    "theta=np.linalg.inv(X.T @ X) @ X.T @ y_train\n",
    "print('回归系数: ',theta)\n",
    "\n",
    "#在测试集上使用回归系数进行预测\n",
    "X_test=np.concatenate([x_test,np.ones((len(x_test),1))],axis=1)\n",
    "y_pred=X_test@theta\n",
    "#计算预测值和真实值之间的RMSE\n",
    "rmse_loss=np.sqrt(np.square(y_test-y_pred).mean())\n",
    "print('RMSE: ',rmse_loss)\n"
   ]
  },
  {
   "cell_type": "markdown",
   "metadata": {},
   "source": [
    "# sklearn的线性回归模型\n",
    "\n",
    "\n",
    "  - coef_ 回归系数\n",
    "  - intercept_ 常数项"
   ]
  },
  {
   "cell_type": "code",
   "execution_count": 9,
   "metadata": {},
   "outputs": [
    {
     "name": "stdout",
     "output_type": "stream",
     "text": [
      "回归系数: [0.65088125 0.46722283 0.3384662  0.00617276 0.42685709] -1.4635041882766192e-14\n",
      "RMSE:  0.28791834247503534\n"
     ]
    }
   ],
   "source": [
    "#导入包\n",
    "from sklearn.linear_model import LinearRegression\n",
    "\n",
    "#初始化模型\n",
    "linreg=LinearRegression()\n",
    "linreg.fit(x_train,y_train)\n",
    "\n",
    "#coef_ 是得到的回归系数 intercept_是常数项\n",
    "print('回归系数:',linreg.coef_,linreg.intercept_)\n",
    "y_pred=linreg.predict(x_test)\n",
    "\n",
    "rmse_loss=np.sqrt(np.square(y_pred-y_test).mean())\n",
    "print('RMSE: ',rmse_loss)\n"
   ]
  },
  {
   "cell_type": "markdown",
   "metadata": {},
   "source": [
    "#### 解析解的缺点\n",
    "\n",
    "- 时间和空间开销大\n",
    "\n",
    "- 大部分情况下我们无法得到解析解\n",
    "\n",
    "---\n",
    "\n",
    "### 接下来大名鼎鼎的梯度下降算法就要登上舞台了"
   ]
  },
  {
   "cell_type": "markdown",
   "metadata": {},
   "source": [
    "# 梯度下降（Gradient Descent）"
   ]
  },
  {
   "cell_type": "markdown",
   "metadata": {},
   "source": [
    "#### 核心更新公式如下：\n",
    "\n",
    "$$\n",
    "\\theta_{\\text{new}} = \\theta_{\\text{old}} - \\eta \\cdot \\nabla J(\\theta_{\\text{old}})\n",
    "$$\n",
    "\n",
    "其中：\n",
    "\n",
    "- $\\theta$：模型的参数（可以是标量或向量）  \n",
    "- $\\eta$`（eta）：学习率（learning rate），控制每次更新的步长  \n",
    "- $\\nabla J(\\theta)$：目标函数 $J(\\theta)$ 在点 $\\theta$ 处的梯度（gradient）\n",
    "\n",
    "这个公式的含义是：沿着目标函数梯度的负方向更新参数，以期找到函数的最小值。"
   ]
  },
  {
   "cell_type": "markdown",
   "metadata": {},
   "source": [
    "###  梯度下降种类\n",
    "  - GD(gradient decent)\n",
    "    - 稳定\n",
    "    - 数据量比较庞大，时间复杂度高\n",
    "    - 每次计算都是精确的梯度值，下降轨迹完全沿梯度方向\n",
    "\n",
    "  - SGD(stochastic gradient decent)\n",
    "    - 该算法只计算一个样本，不稳定性极高\n",
    "    - 震荡很大，并且在最优解附件随机性较大，很难收敛到最优解\n",
    "\n",
    "  - MBGD(mini-batch gradient decent)\n",
    "    - 采用小批量的数据,时间复杂度低\n",
    "    - 轨迹存在一定的震荡，最后也能收敛到最优解位置\n",
    "\n",
    "以下我们实现MBGD算法，但是现代深度学习领域SGD已经成为MBGD的代名词，因此本文不再区分这两个算法，统称为SGD\n"
   ]
  },
  {
   "cell_type": "code",
   "execution_count": 10,
   "metadata": {},
   "outputs": [],
   "source": [
    "# bactch 每一次都返回大小为batc_size的批量\n",
    "# shuffle 代表是否需要随机打乱数据\n",
    "def batch_generator(x,y,batch_size,shuffle=True):\n",
    "  batch_count=0\n",
    "  #打乱数据\n",
    "  if(shuffle):  \n",
    "    #随机生成 [0,len(x))的下标\n",
    "    idx=np.random.permutation(len(x))     \n",
    "    x=x[idx]\n",
    "    y=y[idx]\n",
    "  while(True):\n",
    "    start=batch_count*batch_size\n",
    "    end=min(start+batch_size,len(x))\n",
    "    if(start>=end):\n",
    "      break\n",
    "    batch_count+=1\n",
    "    yield x[start:end],y[start:end]  #缓存每一个批量的数据"
   ]
  },
  {
   "cell_type": "markdown",
   "metadata": {},
   "source": [
    "这里面需要注意的一个关键字就是   `yield`\n",
    "他就是将这个数据缓存，每一次调用这个函数的时候，他就会返回一次结果，  \n",
    "如果返回的次数多余缓存的次数就会报错。\n",
    "\n",
    "以下我举个例子"
   ]
  },
  {
   "cell_type": "code",
   "execution_count": 11,
   "metadata": {},
   "outputs": [
    {
     "name": "stdout",
     "output_type": "stream",
     "text": [
      "1\n",
      "2\n",
      "3\n",
      "4\n",
      "5\n"
     ]
    }
   ],
   "source": [
    "def count_up_to(max_value):\n",
    "    current = 1\n",
    "    while current <= max_value:\n",
    "        yield current\n",
    "        current += 1\n",
    "\n",
    "# 遍历生成器\n",
    "for number in count_up_to(5):\n",
    "    print(number)\n"
   ]
  },
  {
   "cell_type": "code",
   "execution_count": 12,
   "metadata": {},
   "outputs": [
    {
     "name": "stdout",
     "output_type": "stream",
     "text": [
      "1\n",
      "2\n",
      "3\n"
     ]
    }
   ],
   "source": [
    "def simple_generator():\n",
    "    yield 1\n",
    "    yield 2\n",
    "    yield 3\n",
    "\n",
    "# 创建生成器对象\n",
    "gen = simple_generator()\n",
    "\n",
    "# 使用 next() 获取值\n",
    "print(next(gen))  \n",
    "print(next(gen))  \n",
    "print(next(gen))  \n",
    "# 再次调用 next() 会抛出 StopIteration 异常\n",
    "# print(next(gen))  # 抛出 StopIteration"
   ]
  },
  {
   "cell_type": "markdown",
   "metadata": {},
   "source": [
    "#### 我们继续SGD的算法"
   ]
  },
  {
   "cell_type": "code",
   "execution_count": null,
   "metadata": {},
   "outputs": [],
   "source": [
    "#三个参数分别为迭代次数 学习率 批量数\n",
    "def SGD(num_epoch,learning_rate,batch_size):\n",
    "  #偏置项\n",
    "  X=np.concatenate([x_train,np.ones((len(x_train),1))],axis=-1)\n",
    "  X_test=np.concatenate([x_test,np.ones((len(x_test),1))],axis=-1)\n",
    "  \n",
    "  #采用正态分布来获取一个随机的，长度为变量数的系数\n",
    "  theta=np.random.normal(size=X.shape[1])\n",
    "  \n",
    "  #储存每一次的迭代后的损失值\n",
    "  train_losses=[]\n",
    "  test_losses=[]\n",
    "  \n",
    "  #进行迭代\n",
    "  for i in range(num_epoch):\n",
    "    batch_g=batch_generator(X,y_train,batch_size)\n",
    "    train_loss=0\n",
    "    for x_batch,y_batch in batch_g:\n",
    "      #梯度\n",
    "      grad=x_batch.T @ (x_batch @ theta -y_batch)\n",
    "      #更新梯度\n",
    "      theta=theta-learning_rate*grad/len(x_batch)\n",
    "      #更新损失\n",
    "      train_loss+=np.square(x_batch @ theta -y_batch).sum()\n",
    "    \n",
    "    train_loss=np.sqrt(train_loss/len(X))\n",
    "    train_losses.append(train_loss)\n",
    "    test_lose=np.sqrt(np.square(X_test@theta-y_test).mean())\n",
    "    test_losses.append(test_lose)\n",
    "  \n",
    "  print('回归系数：', theta)\n",
    "  return theta, train_losses, test_losses\n"
   ]
  },
  {
   "cell_type": "code",
   "execution_count": 18,
   "metadata": {},
   "outputs": [],
   "source": [
    "def GD(num_epochs, learning_rate):\n",
    "    # 偏置项\n",
    "    X = np.concatenate([x_train, np.ones((len(x_train), 1))], axis=-1)\n",
    "    X_test = np.concatenate([x_test, np.ones((len(x_test), 1))], axis=-1)\n",
    "    \n",
    "    # 初始化参数 theta，使用正态分布初始化\n",
    "    theta = np.random.normal(size=X.shape[1])\n",
    "    \n",
    "    # 存储每轮迭代后的训练和测试损失值\n",
    "    train_losses = []\n",
    "    test_losses = []\n",
    "    \n",
    "    for epoch in range(num_epochs):\n",
    "        # 计算预测误差\n",
    "        y_pred = X @ theta\n",
    "        error = y_pred - y_train\n",
    "        \n",
    "        # 计算梯度（使用整个训练集）\n",
    "        grad = X.T @ error / len(X)\n",
    "        \n",
    "        # 更新参数 theta\n",
    "        theta -= learning_rate * grad\n",
    "        \n",
    "        # 计算本轮训练损失（RMSE）\n",
    "        train_loss = np.sqrt(np.mean(error ** 2))\n",
    "        train_losses.append(train_loss)\n",
    "        \n",
    "        # 计算测试损失（RMSE）\n",
    "        y_test_pred = X_test @ theta\n",
    "        test_loss = np.sqrt(np.mean((y_test_pred - y_test) ** 2))\n",
    "        test_losses.append(test_loss)\n",
    "    \n",
    "    print('回归系数：', theta)\n",
    "    return theta, train_losses, test_losses"
   ]
  },
  {
   "cell_type": "code",
   "execution_count": 20,
   "metadata": {},
   "outputs": [
    {
     "name": "stdout",
     "output_type": "stream",
     "text": [
      "回归系数： [ 0.65357756  0.46682964  0.33885411  0.00720843  0.42751035 -0.00273407]\n",
      "回归系数： [ 0.98216025  1.87135589  0.16543883  0.1722639   0.23649247 -0.34698669]\n"
     ]
    },
    {
     "data": {
      "image/png": "[encoded data removed]",
      "text/plain": [
       "<Figure size 1000x600 with 1 Axes>"
      ]
     },
     "metadata": {},
     "output_type": "display_data"
    }
   ],
   "source": [
    "# 设置参数\n",
    "num_epoch = 20\n",
    "learning_rate = 0.01\n",
    "batch_size = 32\n",
    "\n",
    "np.random.seed(0)\n",
    "\n",
    "# 运行 SGD\n",
    "_, train_losses_sgd, test_losses_sgd = SGD(num_epoch, learning_rate, batch_size)\n",
    "\n",
    "# 运行 GD（注意：GD函数不需要batch_size参数，可以忽略）\n",
    "theta_gd, train_losses_gd, test_losses_gd = GD(num_epoch, learning_rate)\n",
    "\n",
    "# 可视化：将 SGD 和 GD 的 loss 曲线画在一起进行对比\n",
    "plt.figure(figsize=(10, 6))\n",
    "\n",
    "# 训练损失曲线\n",
    "plt.plot(np.arange(num_epoch), train_losses_sgd, color='blue', label='SGD Train Loss')\n",
    "plt.plot(np.arange(num_epoch), train_losses_gd, color='green', label='GD Train Loss')\n",
    "\n",
    "# 测试损失曲线\n",
    "plt.plot(np.arange(num_epoch), test_losses_sgd, color='red', linestyle='--', label='SGD Test Loss')\n",
    "plt.plot(np.arange(num_epoch), test_losses_gd, color='orange', linestyle='--', label='GD Test Loss')\n",
    "\n",
    "# 设置 x 轴为整数刻度\n",
    "plt.gca().xaxis.set_major_locator(MaxNLocator(integer=True))\n",
    "\n",
    "# 标签与图例\n",
    "plt.xlabel('Epoch')\n",
    "plt.ylabel('RMSE')\n",
    "plt.title('Training and Testing Loss: SGD vs GD')\n",
    "plt.legend()\n",
    "plt.grid(True)\n",
    "plt.tight_layout()\n",
    "plt.show()"
   ]
  },
  {
   "cell_type": "markdown",
   "metadata": {},
   "source": [
    "#### 可以看出SGD的收敛速度明显更快\n",
    "\n",
    "---"
   ]
  },
  {
   "cell_type": "markdown",
   "metadata": {},
   "source": [
    "# 不同学习率对RMSE的影响和回归的效果"
   ]
  },
  {
   "cell_type": "code",
   "execution_count": 21,
   "metadata": {},
   "outputs": [
    {
     "name": "stdout",
     "output_type": "stream",
     "text": [
      "回归系数： [ 0.64793055  0.47076949  0.34198212 -0.00103996  0.42536317  0.00170501]\n",
      "回归系数： [ 6.52878493e-01  4.67285808e-01  3.37472562e-01  5.79803035e-03\n",
      "  4.28239516e-01 -3.91890814e-04]\n",
      "回归系数： [ 0.45282878  0.49685917  0.49510686 -0.21996969  0.42216171 -0.09010888]\n"
     ]
    },
    {
     "data": {
      "image/png": "[encoded data removed]",
      "text/plain": [
       "<Figure size 640x480 with 1 Axes>"
      ]
     },
     "metadata": {},
     "output_type": "display_data"
    }
   ],
   "source": [
    "_, lose1, _=SGD(num_epoch=num_epoch,learning_rate=0.1,batch_size=batch_size)\n",
    "_, lose2, _=SGD(num_epoch=num_epoch,learning_rate=0.01,batch_size=batch_size)\n",
    "_, lose3, _=SGD(num_epoch=num_epoch,learning_rate=0.001,batch_size=batch_size)\n",
    "\n",
    "plt.plot(np.arange(num_epoch),lose1,color='blue',label='LR=0.1')\n",
    "plt.plot(np.arange(num_epoch), lose2, color='red', label='lr=0.01')\n",
    "plt.plot(np.arange(num_epoch),lose3,color='green',label='LR=0.001')\n",
    "\n",
    "plt.xlabel('Epoch')\n",
    "plt.ylabel('RMSE')\n",
    "plt.gca().xaxis.set_major_locator(MaxNLocator(integer=True))\n",
    "plt.legend()\n",
    "plt.show()\n",
    "\n"
   ]
  },
  {
   "cell_type": "markdown",
   "metadata": {},
   "source": [
    "可以看到，随着学习率的增大，算法的收敛效果明显加快\n",
    "\n",
    "那么，学习率不是越大越好？我们将学习率继续上调到1.5，来看看结果"
   ]
  },
  {
   "cell_type": "code",
   "execution_count": 24,
   "metadata": {},
   "outputs": [
    {
     "name": "stdout",
     "output_type": "stream",
     "text": [
      "回归系数： [-7.36481349e+71  1.99869877e+71 -7.38233724e+71 -4.18850402e+71\n",
      "  9.51745333e+71  1.04711554e+72]\n",
      "最终损失： 3.826048767577616e+71\n"
     ]
    },
    {
     "data": {
      "image/png": "[encoded data removed]",
      "text/plain": [
       "<Figure size 640x480 with 1 Axes>"
      ]
     },
     "metadata": {},
     "output_type": "display_data"
    }
   ],
   "source": [
    "_, loss3, _ = SGD(num_epoch=num_epoch, learning_rate=1.5, batch_size=batch_size)\n",
    "print('最终损失：', loss3[-1])\n",
    "plt.plot(np.arange(num_epoch), np.log(loss3), color='blue', label='lr=1.5')\n",
    "plt.xlabel('Epoch')\n",
    "plt.ylabel('log RMSE')\n",
    "plt.gca().xaxis.set_major_locator(MaxNLocator(integer=True))\n",
    "plt.legend()\n",
    "plt.show()"
   ]
  },
  {
   "cell_type": "markdown",
   "metadata": {},
   "source": [
    "我们可以看到，算法的RMSE在迭代过程中不但没有减小，反而发散了\n",
    "\n",
    "所以选择一个合适的学习率是算法的重中之重"
   ]
  }
 ],
 "metadata": {
  "kernelspec": {
   "display_name": "env_ML",
   "language": "python",
   "name": "python3"
  },
  "language_info": {
   "codemirror_mode": {
    "name": "ipython",
    "version": 3
   },
   "file_extension": ".py",
   "mimetype": "text/x-python",
   "name": "python",
   "nbconvert_exporter": "python",
   "pygments_lexer": "ipython3",
   "version": "3.8.20"
  }
 },
 "nbformat": 4,
 "nbformat_minor": 2
}
