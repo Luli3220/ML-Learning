{
 "cells": [
  {
   "cell_type": "code",
   "execution_count": 54,
   "id": "47188436-7d40-42b3-bd84-574346477da5",
   "metadata": {},
   "outputs": [
    {
     "data": {
      "image/png": "[encoded data removed]",
      "text/plain": [
       "<Figure size 640x480 with 1 Axes>"
      ]
     },
     "metadata": {},
     "output_type": "display_data"
    }
   ],
   "source": [
    "import numpy as np\n",
    "import matplotlib.pyplot as plt\n",
    "import os\n",
    "#导入包\n",
    "m_x=np.loadtxt('mnist_x',delimiter=' ')\n",
    "m_y=np.loadtxt('mnist_y')\n",
    "\n",
    "data=np.reshape(np.array(m_x[0],dtype=int),[28,28])\n",
    "plt.figure()\n",
    "plt.imshow(data,cmap='gray')\n",
    "\n",
    "#将数据集分测试集和训练集\n",
    "ratio=0.8\n",
    "split=int(len(m_x)*ratio)\n",
    "\n",
    "np.random.seed(0)\n",
    "idx=np.random.permutation(np.arange(len(m_x)))\n",
    "m_x=m_x[idx]\n",
    "m_y=m_y[idx]\n",
    "\n",
    "x_train, x_test = m_x[:split], m_x[split:]\n",
    "y_train, y_test = m_y[:split], m_y[split:]"
   ]
  },
  {
   "cell_type": "code",
   "execution_count": 55,
   "id": "53955138-55f1-4a71-adf2-203929ece1ca",
   "metadata": {},
   "outputs": [],
   "source": [
    "#定义距离函数\n",
    "def distance(a,b):\n",
    "  return np.sqrt(np.sum(np.square(a - b)))  #np.square 对数组每一个进行平方"
   ]
  },
  {
   "cell_type": "code",
   "execution_count": 56,
   "id": "d363af5e-d76e-43dc-8f9a-3b587719eac0",
   "metadata": {},
   "outputs": [],
   "source": [
    "class KNN:\n",
    "    def __init__(self,k,label_num):\n",
    "        self.k=k\n",
    "        self.label_num=label_num\n",
    "    def fit(self,x_train,y_train):\n",
    "        self.x_train=x_train\n",
    "        self.y_train=y_train\n",
    "    def get_knn_indices(self,x):\n",
    "        dis=list(map(lambda a:distance(a,x),self.x_train))  #map应用与每一个量\n",
    "        # 按距离从小到大排序，并得到对应的下标\n",
    "        knn_indices=np.argsort(dis)  \n",
    "        knn_indices=knn_indices[:self.k]\n",
    "        return knn_indices\n",
    "    def get_label(self,x):\n",
    "        knn_indices=self.get_knn_indices(x)\n",
    "        label_statistic=np.zeros(shape=[self.label_num])\n",
    "        for index in knn_indices:\n",
    "            label=int(self.y_train[index])\n",
    "            label_statistic[label]+=1\n",
    "        return np.argmax(label_statistic)\n",
    "    def predict(self,x_test):\n",
    "        predicted_test_labels=np.zeros(shape=[len(x_test)],dtype=int)\n",
    "        for i,x in enumerate(x_test):\n",
    "            predicted_test_labels[i]=self.get_label(x)\n",
    "        return predicted_test_labels\n",
    "    "
   ]
  },
  {
   "cell_type": "code",
   "execution_count": 57,
   "id": "2ef8d329-7615-48bc-9637-df2a0b730118",
   "metadata": {},
   "outputs": [
    {
     "name": "stdout",
     "output_type": "stream",
     "text": [
      "K的取值为1,预测的准确率为88.5%\n",
      "K的取值为2,预测的准确率为88.0%\n",
      "K的取值为3,预测的准确率为87.5%\n",
      "K的取值为4,预测的准确率为87.5%\n",
      "K的取值为5,预测的准确率为88.5%\n",
      "K的取值为6,预测的准确率为88.5%\n",
      "K的取值为7,预测的准确率为88.0%\n",
      "K的取值为8,预测的准确率为87.0%\n",
      "K的取值为9,预测的准确率为87.0%\n"
     ]
    }
   ],
   "source": [
    "for k in range(1,10):\n",
    "    knn=KNN(k,label_num=10)\n",
    "    knn.fit(x_train,y_train)\n",
    "    predict_labels=knn.predict(x_test)\n",
    "\n",
    "    accuracy=np.mean(predict_labels==y_test)\n",
    "    print(f\"K的取值为{k},预测的准确率为{accuracy*100:.1f}%\")"
   ]
  }
 ],
 "metadata": {
  "kernelspec": {
   "display_name": "Python 3 (ipykernel)",
   "language": "python",
   "name": "python3"
  },
  "language_info": {
   "codemirror_mode": {
    "name": "ipython",
    "version": 3
   },
   "file_extension": ".py",
   "mimetype": "text/x-python",
   "name": "python",
   "nbconvert_exporter": "python",
   "pygments_lexer": "ipython3",
   "version": "3.8.8"
  }
 },
 "nbformat": 4,
 "nbformat_minor": 5
}
