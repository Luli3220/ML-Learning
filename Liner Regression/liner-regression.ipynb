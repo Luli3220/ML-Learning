{
 "cells": [
  {
   "cell_type": "markdown",
   "metadata": {},
   "source": [
    "### 线性回归算法\n"
   ]
  },
  {
   "cell_type": "markdown",
   "metadata": {},
   "source": [
    "我们先准备一下全局的数据，以及划分一下数据集 ratio=0.8"
   ]
  },
  {
   "cell_type": "code",
   "execution_count": null,
   "metadata": {},
   "outputs": [
    {
     "name": "stdout",
     "output_type": "stream",
     "text": [
      "数据特征: Avg. Area Income,Avg. Area House Age,Avg. Area Number of Rooms,Avg. Area Number of Bedrooms,Area Population\n",
      "数据标签:  Price\n",
      "数据总条数: 5000\n"
     ]
    }
   ],
   "source": [
    "import numpy as np\n",
    "import matplotlib.pyplot as plt\n",
    "from matplotlib.ticker import MaxNLocator\n",
    "from sklearn.preprocessing import StandardScaler\n",
    "\n",
    "lines=np.loadtxt('USA_Housing.csv',delimiter=',',dtype='str')\n",
    "header=lines[0]\n",
    "lines=lines[1:].astype(float)\n",
    "\n",
    "print('数据特征:',','.join(header[:-1]))\n",
    "print('数据标签: ',header[-1])\n",
    "print('数据总条数:',len(lines))\n",
    "\n",
    "\n",
    "#划分训练集\n",
    "ratio=0.8\n",
    "split=int(ratio*len(lines))\n",
    "np.random.seed(0)\n",
    "\n",
    "lines=np.random.permutation(lines)\n",
    "\n",
    "train,test=lines[:split],lines[split:]\n",
    "#数据归一化\n",
    "scaler=StandardScaler()   #将参数进行标准化\n",
    "scaler.fit(train)  \n",
    "train=scaler.transform(train)   #transform方法的作用是根据之前计算好的均值和标准差，对数据进行标准化。\n",
    "test=scaler.transform(test)\n",
    "\n",
    "x_train,y_train=train[:,:-1],train[:,-1].flatten()\n",
    "x_test,y_test=test[:,:-1],test[:,-1].flatten()\n"
   ]
  },
  {
   "cell_type": "markdown",
   "metadata": {},
   "source": [
    "#### 线性回归解析方法推导\n",
    "\n",
    "在线性回归中，我们希望找到一个线性模型 $ y = X\\theta + \\epsilon $，其中：\n",
    "- $ y $ 是目标变量（列向量，大小为 $ N \\times 1 $）。\n",
    "- $ X $ 是特征矩阵（大小为 $ N \\times (p+1) $，包括偏置项）。\n",
    "- $ \\theta $ 是待求解的参数向量（大小为 $ (p+1) \\times 1 $）。\n",
    "- $ \\epsilon $ 是误差项（列向量，大小为 $ N \\times 1 $）。\n",
    "\n",
    "我们的目标是最小化损失函数 $ J(\\theta) $，即均方误差（MSE）的一半：\n",
    "\n",
    "$$\n",
    "J(\\theta) = \\frac{1}{2N} \\|y - X\\theta\\|^2 = \\frac{1}{2N} (y - X\\theta)^T(y - X\\theta)\n",
    "$$\n",
    "\n",
    "接下来，我们通过解析方法求解最优参数 $ \\theta $。\n",
    "\n",
    "---\n",
    "\n",
    "### 推导步骤\n",
    "\n",
    "#### 1. 展开损失函数\n",
    "\n",
    "首先展开 $ J(\\theta) $ 的表达式：\n",
    "\n",
    "$$\n",
    "J(\\theta) = \\frac{1}{2N} (y - X\\theta)^T(y - X\\theta)\n",
    "$$\n",
    "\n",
    "利用矩阵转置和乘法的性质，展开括号：\n",
    "\n",
    "$$\n",
    "J(\\theta) = \\frac{1}{2N} \\left( y^Ty - y^TX\\theta - \\theta^TX^Ty + \\theta^TX^TX\\theta \\right)\n",
    "$$\n",
    "\n",
    "注意到 $ y^TX\\theta $ 和 $ \\theta^TX^Ty $ 是标量，并且满足 $ y^TX\\theta = \\theta^TX^Ty $，因此可以合并为：\n",
    "\n",
    "$$\n",
    "J(\\theta) = \\frac{1}{2N} \\left( y^Ty - 2\\theta^TX^Ty + \\theta^TX^TX\\theta \\right)\n",
    "$$\n",
    "\n",
    "---\n",
    "\n",
    "#### 2. 对 $ \\theta $ 求导\n",
    "\n",
    "为了找到使 $ J(\\theta) $ 为最小值的 $ \\theta $，我们对 $ J(\\theta) $ 关于 $ \\theta $ 求导，并令导数为零。\n",
    "\n",
    "\n",
    "\n",
    "对 $ J(\\theta) $ 求导：\n",
    "\n",
    "$$\n",
    "\\frac{\\partial J(\\theta)}{\\partial \\theta} = \\frac{1}{2N} \\left( -2X^Ty + 2X^TX\\theta \\right)\n",
    "$$\n",
    "\n",
    "化简后得到：\n",
    "\n",
    "$$\n",
    "\\frac{\\partial J(\\theta)}{\\partial \\theta} = \\frac{1}{N} \\left( -X^Ty + X^TX\\theta \\right)\n",
    "$$\n",
    "\n",
    "令导数为零：\n",
    "\n",
    "$$\n",
    "\\frac{1}{N} \\left( -X^Ty + X^TX\\theta \\right) = 0\n",
    "$$\n",
    "\n",
    "---\n",
    "\n",
    "#### 3. 解方程求 $ \\theta $\n",
    "\n",
    "将方程整理为：\n",
    "\n",
    "$$\n",
    "X^TX\\theta = X^Ty\n",
    "$$\n",
    "\n",
    "假设 $ X^TX $ 是可逆的（即 $ X $ 的列是线性无关的），则两边同时左乘 $ (X^TX)^{-1} $：\n",
    "\n",
    "$$\n",
    "\\theta = (X^TX)^{-1}X^Ty\n",
    "$$\n",
    "\n",
    "这就是线性回归的解析解。\n",
    "\n",
    "---\n",
    "\n",
    "### 总结\n",
    "\n",
    "通过最小化损失函数 $ J(\\theta) $，我们得到了线性回归的最优参数解析解：\n",
    "\n",
    "$$\n",
    "\\boxed{\\theta = (X^TX)^{-1}X^Ty}\n",
    "$$\n",
    "\n",
    "这个公式可以直接用于计算线性回归模型的参数，无需迭代优化。"
   ]
  },
  {
   "cell_type": "code",
   "execution_count": 1,
   "metadata": {},
   "outputs": [
    {
     "ename": "NameError",
     "evalue": "name 'np' is not defined",
     "output_type": "error",
     "traceback": [
      "\u001b[1;31m---------------------------------------------------------------------------\u001b[0m",
      "\u001b[1;31mNameError\u001b[0m                                 Traceback (most recent call last)",
      "Cell \u001b[1;32mIn[1], line 2\u001b[0m\n\u001b[0;32m      1\u001b[0m \u001b[38;5;66;03m#在x矩阵最后添加一列1，代表常数项\u001b[39;00m\n\u001b[1;32m----> 2\u001b[0m X\u001b[38;5;241m=\u001b[39m\u001b[43mnp\u001b[49m\u001b[38;5;241m.\u001b[39mconcatenate([x_train,np\u001b[38;5;241m.\u001b[39mones((\u001b[38;5;28mlen\u001b[39m(x_train),\u001b[38;5;241m1\u001b[39m))],axis\u001b[38;5;241m=\u001b[39m\u001b[38;5;241m1\u001b[39m)\n\u001b[0;32m      3\u001b[0m \u001b[38;5;66;03m# @表示矩阵相乘，X.T表示转置  np.linalg.inv表示矩阵的逆\u001b[39;00m\n\u001b[0;32m      5\u001b[0m theta\u001b[38;5;241m=\u001b[39mnp\u001b[38;5;241m.\u001b[39mlinalg\u001b[38;5;241m.\u001b[39minv(X\u001b[38;5;241m.\u001b[39mT \u001b[38;5;241m@\u001b[39m X) \u001b[38;5;241m@\u001b[39m X\u001b[38;5;241m.\u001b[39mT \u001b[38;5;241m@\u001b[39m y_train\n",
      "\u001b[1;31mNameError\u001b[0m: name 'np' is not defined"
     ]
    }
   ],
   "source": [
    "#在x矩阵最后添加一列1，代表常数项\n",
    "X=np.concatenate([x_train,np.ones((len(x_train),1))],axis=1)\n",
    "# @表示矩阵相乘，X.T表示转置  np.linalg.inv表示矩阵的逆\n",
    "\n",
    "theta=np.linalg.inv(X.T @ X) @ X.T @ y_train\n",
    "print('回归系数: ',theta)\n",
    "\n",
    "#在测试集上使用回归系数进行预测\n",
    "X_test=np.concatenate([x_test,np.ones((len(x_test),1))],axis=1)\n",
    "y_pred=X_test@theta\n",
    "#计算预测值和真实值之间的RMSE\n",
    "rmse_loss=np.sqrt(np.square(y_test-y_pred).mean())\n",
    "print('RMSE: ',rmse_loss)\n"
   ]
  },
  {
   "cell_type": "markdown",
   "metadata": {},
   "source": [
    "我们再来试试用sklearn的线性回归模型\n",
    "\n",
    "通过fit训练数据\n",
    "\n",
    "coef_得到回归系数 intercept_得到常数项"
   ]
  },
  {
   "cell_type": "code",
   "execution_count": null,
   "metadata": {},
   "outputs": [
    {
     "name": "stdout",
     "output_type": "stream",
     "text": [
      "回归系数: [0.65088125 0.46722283 0.3384662  0.00617276 0.42685709] -1.4635041882766192e-14\n",
      "RMSE:  0.28791834247503534\n"
     ]
    }
   ],
   "source": [
    "#导入包\n",
    "from sklearn.linear_model import LinearRegression\n",
    "\n",
    "#初始化模型\n",
    "linreg=LinearRegression()\n",
    "linreg.fit(x_train,y_train)\n",
    "\n",
    "#coef_ 是得到的回归系数 intercept_是常数项\n",
    "print('回归系数:',linreg.coef_,linreg.intercept_)\n",
    "y_pred=linreg.predict(x_test)\n",
    "\n",
    "rmse_loss=np.sqrt(np.square(y_pred-y_test).mean())\n",
    "print('RMSE: ',rmse_loss)\n"
   ]
  },
  {
   "cell_type": "markdown",
   "metadata": {},
   "source": [
    "### 梯度下降算法\n",
    "  - GD(gradient decent)\n",
    "    - 稳定\n",
    "    - 数据量比较庞大，时间复杂度高\n",
    "  - SGD(stochastic gradient decent)\n",
    "    - 该算法只计算一个样本，不稳定性极高\n",
    "  - MBGD(mini-batch gradient decent)\n",
    "    - 采用小批量的数据,时间复杂度低\n",
    "\n",
    "以下我们实现MBGD算法，但是现代深度学习领域SGD已经成为MBGD的代名词，因此本文不再区分这两个算法，统称为SGD\n"
   ]
  },
  {
   "cell_type": "code",
   "execution_count": null,
   "metadata": {},
   "outputs": [],
   "source": [
    "# bactch 每一次都返回大小为batc_size的批量\n",
    "# shuffle 代表是否需要随机打乱数据\n",
    "def batch_generator(x,y,batch_size,shuffle=True):\n",
    "  batch_count=0\n",
    "  #打乱数据\n",
    "  if(shuffle):  \n",
    "    #随机生成 [0,len(x))的下标\n",
    "    idx=np.random.permutation(len(x))     \n",
    "    x=x[idx]\n",
    "    y=y[idx]\n",
    "  while(True):\n",
    "    start=batch_count*batch_size\n",
    "    end=min(start+batch_size,len(x))\n",
    "    if(start>=end):\n",
    "      break\n",
    "    batch_count+=1\n",
    "    yield x[start:end],y[start:end]  #缓存每一个批量的数据"
   ]
  },
  {
   "cell_type": "markdown",
   "metadata": {},
   "source": [
    "这里面需要注意的一个关键字就是   `yield`\n",
    "他就是将这个数据缓存，每一次调用这个函数的时候，他就会返回一次结果，  \n",
    "如果返回的次数多余缓存的次数就会报错。\n",
    "\n",
    "以下我举个例子"
   ]
  },
  {
   "cell_type": "code",
   "execution_count": null,
   "metadata": {},
   "outputs": [
    {
     "name": "stdout",
     "output_type": "stream",
     "text": [
      "1\n",
      "2\n",
      "3\n",
      "4\n",
      "5\n"
     ]
    }
   ],
   "source": [
    "def count_up_to(max_value):\n",
    "    current = 1\n",
    "    while current <= max_value:\n",
    "        yield current\n",
    "        current += 1\n",
    "\n",
    "# 遍历生成器\n",
    "for number in count_up_to(5):\n",
    "    print(number)\n"
   ]
  },
  {
   "cell_type": "code",
   "execution_count": null,
   "metadata": {},
   "outputs": [
    {
     "name": "stdout",
     "output_type": "stream",
     "text": [
      "1\n",
      "2\n",
      "3\n"
     ]
    }
   ],
   "source": [
    "def simple_generator():\n",
    "    yield 1\n",
    "    yield 2\n",
    "    yield 3\n",
    "\n",
    "# 创建生成器对象\n",
    "gen = simple_generator()\n",
    "\n",
    "# 使用 next() 获取值\n",
    "print(next(gen))  \n",
    "print(next(gen))  \n",
    "print(next(gen))  \n",
    "# 再次调用 next() 会抛出 StopIteration 异常\n",
    "# print(next(gen))  # 抛出 StopIteration"
   ]
  },
  {
   "cell_type": "markdown",
   "metadata": {},
   "source": [
    "好的，介绍完关键词 `yield`\n",
    "\n",
    "我们继续SGD的算法"
   ]
  },
  {
   "cell_type": "code",
   "execution_count": null,
   "metadata": {},
   "outputs": [
    {
     "name": "stdout",
     "output_type": "stream",
     "text": [
      "回归系数： [ 0.65357756  0.46682964  0.33885411  0.00720843  0.42751035 -0.00273407]\n"
     ]
    },
    {
     "data": {
      "image/png": "[encoded data removed]",
      "text/plain": [
       "<Figure size 640x480 with 1 Axes>"
      ]
     },
     "metadata": {},
     "output_type": "display_data"
    }
   ],
   "source": [
    "#三个参数分别为迭代次数 学习率 批量数\n",
    "def SGD(num_epoch,learning_rate,batch_size):\n",
    "  #对于所有训练参数的行末尾加一个1 来代表 ax1+bx2+-----+c 中的常数\n",
    "  X=np.concatenate([x_train,np.ones((len(x_train),1))],axis=-1)\n",
    "  X_test=np.concatenate([x_test,np.ones((len(x_test),1))],axis=-1)\n",
    "  #采用正态分布来获取一个随机的，长度为变量数的系数\n",
    "  theta=np.random.normal(size=X.shape[1])\n",
    "  #储存每一次的迭代后的损失值\n",
    "  train_losses=[]\n",
    "  test_losses=[]\n",
    "  #进行迭代\n",
    "  for i in range(num_epoch):\n",
    "    batch_g=batch_generator(X,y_train,batch_size)\n",
    "    train_loss=0\n",
    "    for x_batch,y_batch in batch_g:\n",
    "      #梯度\n",
    "      grad=x_batch.T @ (x_batch @ theta -y_batch)\n",
    "      #梯度下降\n",
    "      theta=theta-learning_rate*grad/len(x_batch)\n",
    "      train_loss+=np.square(x_batch @ theta -y_batch).sum()\n",
    "    train_loss=np.sqrt(train_loss/len(X))\n",
    "    train_losses.append(train_loss)\n",
    "    test_lose=np.sqrt(np.square(X_test@theta-y_test).mean())\n",
    "    test_losses.append(test_lose)\n",
    "  print('回归系数：', theta)\n",
    "  return theta, train_losses, test_losses\n",
    "\n",
    "\n",
    "#设置SGD参数\n",
    "num_epoch=20\n",
    "learning_rate=0.01\n",
    "batch_size=32\n",
    "#设置随机种子\n",
    "np.random.seed(0)\n",
    "# _表示占位符 表示忽视第一个返回值\n",
    "_, train_losses, test_losses = SGD(num_epoch, learning_rate, batch_size)\n",
    "#画图\n",
    "plt.plot(np.arange(num_epoch), train_losses, color='blue', \n",
    "    label='train loss')\n",
    "plt.plot(np.arange(num_epoch), test_losses, color='red', \n",
    "    ls='--', label='test loss')\n",
    "#将x坐标设置为整数\n",
    "plt.gca().xaxis.set_major_locator(MaxNLocator(integer=True))\n",
    "plt.xlabel('Epoch')\n",
    "plt.ylabel('RMSE')\n",
    "plt.legend()\n",
    "plt.show()\n",
    "\n"
   ]
  },
  {
   "cell_type": "markdown",
   "metadata": {},
   "source": [
    "好了，看过了代码，接下来我们来解析以下算法思想\n",
    "\n",
    "首先我们知道线性回归的损失函数为均方误差（MSE）：\n",
    "$$\n",
    "L(\\theta) = \\frac{1}{2N} \\sum_{i=1}^N \\left( f_\\theta(x^{(i)}) - y^{(i)} \\right)^2\n",
    "$$\n",
    "对于损失函数 $\\theta$ 求偏导，然后我们得到梯度公式:\n",
    "$$\n",
    "\\nabla_\\theta L(\\theta) = \\frac{1}{N} X^T \\cdot \\left( X \\cdot \\theta - y \\right)\n",
    "$$\n",
    "然后我们可以得到递归公式：\n",
    "$$\n",
    "\\theta^{(t+1)} = \\theta^{(t)} - \\alpha \\cdot \\nabla_\\theta L(\\theta^{(t)})\n",
    "$$\n",
    "那么我们就可以通过每一次的小批量的train数据来不断精确 变量参数  $\\theta$ \n",
    "\n",
    "\n",
    "将损失函数关于运行次数的关系制图,我们可以看到损失函数先一直保持下降，之后趋于平稳"
   ]
  },
  {
   "cell_type": "markdown",
   "metadata": {},
   "source": [
    "#### 然后我们来了解两个画图的函数\n",
    "- `plt.gca().xaxis.set_major_locator(MaxNLocator(integer=True))`\n",
    "  - `plt.gca()` 表示获取当前的坐标轴对象（Axes）\n",
    "  - `.xaxis` 表示当前坐标轴的 x 轴对象\n",
    "  - `.set_major_locator(...)` 用来设置主刻度（major ticks）的位置的方法\n",
    "  - `MaxNLocator(integer=True)` Matplotlib 中的一个刻度定位器类，用于自动选择刻度位置\n",
    "    - 参数 `integer=True`  表示只允许刻度值为整数\n",
    "\n",
    "  这行代码的整体功能是：\n",
    "  - 获取当前图表的坐标轴对象。\n",
    "  - 设置 x 轴的主刻度定位器为 MaxNLocator，并要求刻度值必须是整数。\n",
    "  - 最终效果是：x 轴上的刻度值只会显示整数，而不会出现小数。\n",
    "\n",
    "\n",
    "- `plt.legend()`:它的作用是为图表中的不同曲线或数据系列标注标签，从而帮助读者理解每条曲线或数据的含义。\n"
   ]
  },
  {
   "cell_type": "markdown",
   "metadata": {},
   "source": [
    "接下来，我们来看下不同学习率对RMSE的影响和回归的效果"
   ]
  },
  {
   "cell_type": "code",
   "execution_count": null,
   "metadata": {},
   "outputs": [
    {
     "name": "stdout",
     "output_type": "stream",
     "text": [
      "回归系数： [0.64542258 0.47047873 0.33188398 0.00325404 0.42479699 0.00237965]\n",
      "回归系数： [0.59247915 0.58561574 0.26554358 0.10173112 0.49435997 0.13108641]\n",
      "回归系数： [0.63982779 0.41128521 0.36069564 0.00889609 0.38672539 0.03655624]\n"
     ]
    },
    {
     "data": {
      "image/png": "[encoded data removed]",
      "text/plain": [
       "<Figure size 640x480 with 1 Axes>"
      ]
     },
     "metadata": {},
     "output_type": "display_data"
    }
   ],
   "source": [
    "_, lose1, _=SGD(num_epoch=num_epoch,learning_rate=0.1,batch_size=batch_size)\n",
    "_, lose2, _=SGD(num_epoch=num_epoch,learning_rate=0.001,batch_size=batch_size)\n",
    "_, lose2, _=SGD(num_epoch=num_epoch,learning_rate=1,batch_size=batch_size)\n",
    "\n",
    "plt.plot(np.arange(num_epoch),lose1,color='blue',label='LR=0.1')\n",
    "plt.plot(np.arange(num_epoch), train_losses, color='red', label='lr=0.01')\n",
    "plt.plot(np.arange(num_epoch),lose2,color='green',label='LR=0.001')\n",
    "\n",
    "plt.xlabel('Epoch')\n",
    "plt.ylabel('RMSE')\n",
    "plt.gca().xaxis.set_major_locator(MaxNLocator(integer=True))\n",
    "plt.legend()\n",
    "plt.show()\n",
    "\n"
   ]
  },
  {
   "cell_type": "markdown",
   "metadata": {},
   "source": [
    "可以看到，随着学习率的增大，算法的收敛效果明显加快\n",
    "\n",
    "那么，学习率不是越大越好？我们将学习率继续上调到1.5，来看看结果"
   ]
  },
  {
   "cell_type": "code",
   "execution_count": null,
   "metadata": {},
   "outputs": [
    {
     "name": "stdout",
     "output_type": "stream",
     "text": [
      "回归系数： [ 5.77637606e+79 -4.83668911e+80  3.25996549e+80  4.23825401e+80\n",
      "  4.71711285e+80  2.86687587e+78]\n",
      "最终损失： 5.561487004224334e+80\n"
     ]
    },
    {
     "data": {
      "image/png": "[encoded data removed]",
      "text/plain": [
       "<Figure size 640x480 with 1 Axes>"
      ]
     },
     "metadata": {},
     "output_type": "display_data"
    }
   ],
   "source": [
    "_, loss3, _ = SGD(num_epoch=num_epoch, learning_rate=1.5, batch_size=batch_size)\n",
    "print('最终损失：', loss3[-1])\n",
    "plt.plot(np.arange(num_epoch), np.log(loss3), color='blue', label='lr=1.5')\n",
    "plt.xlabel('Epoch')\n",
    "plt.ylabel('log RMSE')\n",
    "plt.gca().xaxis.set_major_locator(MaxNLocator(integer=True))\n",
    "plt.legend()\n",
    "plt.show()"
   ]
  },
  {
   "cell_type": "markdown",
   "metadata": {},
   "source": [
    "我们可以看到，算法的RMSE在迭代过程中不但没有减小，反而发散了\n",
    "\n",
    "所以选择一个合适的学习率是算法的重中之重"
   ]
  },
  {
   "cell_type": "markdown",
   "metadata": {},
   "source": [
    " ### 总结\n",
    "Liner Regression 常用的两个算法 （1）解析方法 （2）梯度下降\n",
    "\n",
    "前者能够得到精确的解，但是计算的时空开销大,\n",
    "   \n",
    "后者通过数值近似的方法，用较小的时空复杂度得到了与精确解接近的结果，但是常常需要手动调整学习率和迭代次数，\n",
    "\n",
    "\n",
    "   梯度下降更为常用，他衍生除了很多更有效，更快速的优化方法，是现代深度学习的基础之一"
   ]
  }
 ],
 "metadata": {
  "kernelspec": {
   "display_name": "env_ML",
   "language": "python",
   "name": "python3"
  },
  "language_info": {
   "codemirror_mode": {
    "name": "ipython",
    "version": 3
   },
   "file_extension": ".py",
   "mimetype": "text/x-python",
   "name": "python",
   "nbconvert_exporter": "python",
   "pygments_lexer": "ipython3",
   "version": "3.8.20"
  }
 },
 "nbformat": 4,
 "nbformat_minor": 2
}
